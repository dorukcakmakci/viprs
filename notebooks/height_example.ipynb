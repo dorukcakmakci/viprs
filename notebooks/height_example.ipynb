{
 "cells": [
  {
   "cell_type": "markdown",
   "source": [
    "This example illustrate how to run the VIPRS model\n",
    "on external GWAS summary from the `fastGWA` catalogue.\n",
    "\n",
    "First, let's load and harmonize the data using `magenpy`:"
   ],
   "metadata": {
    "collapsed": false,
    "pycharm": {
     "name": "#%% md\n"
    }
   }
  },
  {
   "cell_type": "code",
   "execution_count": 2,
   "outputs": [
    {
     "name": "stdout",
     "output_type": "stream",
     "text": [
      "> Reading genotype files...\n",
      "> Reading summary statistics files...\n",
      "> Harmonizing data...\n"
     ]
    }
   ],
   "source": [
    "import magenpy as mgp\n",
    "import viprs as vp\n",
    "\n",
    "# GWAS summary statistics for Standing Height from fastGWA:\n",
    "sumstats_url = \"https://yanglab.westlake.edu.cn/data/fastgwa_data/UKB/50.v1.1.fastGWA.gz\"\n",
    "\n",
    "# Load genotype data for European samples in the 1000G project (chromosome 22):\n",
    "gdl = mgp.GWADataLoader(bed_files=mgp.tgp_eur_data_path(),\n",
    "                        sumstats_files=sumstats_url,\n",
    "                        sumstats_format=\"fastGWA\")"
   ],
   "metadata": {
    "collapsed": false,
    "pycharm": {
     "name": "#%%\n"
    }
   }
  },
  {
   "cell_type": "markdown",
   "source": [
    "Then, we use `magenpy` to compute the reference LD matrices:"
   ],
   "metadata": {
    "collapsed": false,
    "pycharm": {
     "name": "#%% md\n"
    }
   }
  },
  {
   "cell_type": "code",
   "execution_count": 3,
   "outputs": [
    {
     "name": "stderr",
     "output_type": "stream",
     "text": [
      "/Users/szabad/opt/miniconda3/lib/python3.7/site-packages/dask/array/routines.py:272: PerformanceWarning: Increasing number of chunks by factor of 16\n",
      "  axes=(left_axes, right_axes),\n"
     ]
    }
   ],
   "source": [
    "# Compute LD using the shrinkage estimator (Wen and Stephens 2010):\n",
    "gdl.compute_ld(\"shrinkage\",\n",
    "               output_dir=\"~/temp\",\n",
    "               genetic_map_ne=11400, # effective population size (Ne)\n",
    "               genetic_map_sample_size=183,\n",
    "               threshold=1e-3)"
   ],
   "metadata": {
    "collapsed": false,
    "pycharm": {
     "name": "#%%\n"
    }
   }
  },
  {
   "cell_type": "markdown",
   "source": [
    "Finally, we fit VIPRS to summary statistics data:"
   ],
   "metadata": {
    "collapsed": false,
    "pycharm": {
     "name": "#%% md\n"
    }
   }
  },
  {
   "cell_type": "code",
   "execution_count": 4,
   "outputs": [
    {
     "name": "stdout",
     "output_type": "stream",
     "text": [
      "> Initializing model parameters\n",
      "> Loading LD matrices into memory...\n",
      "> Performing model fit...\n",
      "> Using up to 1 threads.\n",
      "> Final ELBO: -1237.917643\n",
      "> Estimated heritability: 0.005686\n",
      "> Estimated proportion of causal variants: 0.015640\n"
     ]
    },
    {
     "name": "stderr",
     "output_type": "stream",
     "text": [
      "  0%|          | 2/1000 [00:00<02:48,  5.93it/s]/Users/szabad/opt/miniconda3/lib/python3.7/site-packages/ipykernel_launcher.py:2: UserWarning: Iteration 3: ELBO dropped from -1190.898828 to -1199.756205.\n",
      "  \n",
      "  0%|          | 3/1000 [00:00<02:36,  6.37it/s]/Users/szabad/opt/miniconda3/lib/python3.7/site-packages/ipykernel_launcher.py:2: UserWarning: Iteration 4: ELBO dropped from -1199.756205 to -1210.376998.\n",
      "  \n",
      "  0%|          | 4/1000 [00:00<02:30,  6.62it/s]/Users/szabad/opt/miniconda3/lib/python3.7/site-packages/ipykernel_launcher.py:2: UserWarning: Iteration 5: ELBO dropped from -1210.376998 to -1218.297553.\n",
      "  \n",
      "  0%|          | 5/1000 [00:00<02:28,  6.68it/s]/Users/szabad/opt/miniconda3/lib/python3.7/site-packages/ipykernel_launcher.py:2: UserWarning: Iteration 6: ELBO dropped from -1218.297553 to -1222.571844.\n",
      "  \n",
      "  1%|          | 6/1000 [00:00<02:27,  6.76it/s]/Users/szabad/opt/miniconda3/lib/python3.7/site-packages/ipykernel_launcher.py:2: UserWarning: Iteration 7: ELBO dropped from -1222.571844 to -1226.285672.\n",
      "  \n",
      "  1%|          | 7/1000 [00:01<02:26,  6.80it/s]/Users/szabad/opt/miniconda3/lib/python3.7/site-packages/ipykernel_launcher.py:2: UserWarning: Iteration 8: ELBO dropped from -1226.285672 to -1230.589604.\n",
      "  \n",
      "  1%|          | 8/1000 [00:01<02:24,  6.87it/s]/Users/szabad/opt/miniconda3/lib/python3.7/site-packages/ipykernel_launcher.py:2: UserWarning: Iteration 9: ELBO dropped from -1230.589604 to -1233.338923.\n",
      "  \n",
      "  1%|          | 9/1000 [00:01<02:25,  6.82it/s]/Users/szabad/opt/miniconda3/lib/python3.7/site-packages/ipykernel_launcher.py:2: UserWarning: Iteration 10: ELBO dropped from -1233.338923 to -1234.390852.\n",
      "  \n",
      "  1%|          | 10/1000 [00:01<02:29,  6.64it/s]/Users/szabad/opt/miniconda3/lib/python3.7/site-packages/ipykernel_launcher.py:2: UserWarning: Iteration 11: ELBO dropped from -1234.390852 to -1235.335179.\n",
      "  \n",
      "  1%|          | 11/1000 [00:01<02:57,  5.56it/s]/Users/szabad/opt/miniconda3/lib/python3.7/site-packages/ipykernel_launcher.py:2: UserWarning: Iteration 12: ELBO dropped from -1235.335179 to -1236.860252.\n",
      "  \n",
      "  1%|          | 12/1000 [00:01<02:49,  5.82it/s]/Users/szabad/opt/miniconda3/lib/python3.7/site-packages/ipykernel_launcher.py:2: UserWarning: Iteration 13: ELBO dropped from -1236.860252 to -1237.917643.\n",
      "  \n",
      "/Users/szabad/opt/miniconda3/lib/python3.7/site-packages/ipykernel_launcher.py:2: UserWarning: The optimization is halted due to numerical instabilities!\n",
      "  \n",
      "  1%|          | 12/1000 [00:02<02:53,  5.68it/s]\n"
     ]
    }
   ],
   "source": [
    "# Fit VIPRS to the summary statistics:\n",
    "v = vp.VIPRS(gdl).fit()"
   ],
   "metadata": {
    "collapsed": false,
    "pycharm": {
     "name": "#%%\n"
    }
   }
  },
  {
   "cell_type": "markdown",
   "source": [
    "Once convergence is achieved, estimate the height PRS for the 1000G samples:"
   ],
   "metadata": {
    "collapsed": false,
    "pycharm": {
     "name": "#%% md\n"
    }
   }
  },
  {
   "cell_type": "code",
   "execution_count": 6,
   "outputs": [
    {
     "data": {
      "text/plain": "array([ 1.12465147e-02, -1.98365575e-02,  8.10296092e-02,  9.19235629e-03,\n        1.41222521e-02,  6.66717037e-03,  2.13650746e-02,  2.25673360e-02,\n       -2.36673175e-02,  1.21224196e-02,  3.64457840e-02,  2.29509504e-02,\n        2.69683505e-02, -1.74581155e-02,  5.99838339e-02,  2.27726988e-02,\n       -2.97655852e-02,  1.42726187e-02,  5.17193412e-03,  1.16406313e-01,\n        3.61666636e-02,  1.96185118e-02, -3.05102987e-02,  6.38696828e-02,\n       -8.56778021e-03,  3.17616733e-02,  1.10565673e-02,  6.04286935e-02,\n        3.33846905e-02, -2.25037047e-02,  6.46041766e-02,  1.17211260e-02,\n        6.92948424e-02,  3.37243500e-02, -3.59854077e-02,  6.79063740e-03,\n       -3.62476826e-02,  8.10193683e-03,  1.70925454e-02,  5.63414246e-03,\n        2.58452952e-02,  3.10765030e-02,  2.75621992e-04,  5.18801160e-02,\n        4.99013019e-02, -1.50109900e-03, -2.16981322e-02, -4.15792699e-03,\n        4.79397849e-04,  3.45629772e-02,  2.34583970e-02,  3.49822996e-02,\n        2.86467941e-02, -1.58095374e-03,  1.24723693e-02,  5.32510382e-02,\n        2.80864986e-02,  2.98366044e-02,  8.29976373e-03,  1.72653403e-02,\n        2.73624519e-02,  4.80194203e-02,  2.85074639e-02,  5.21631939e-02,\n        6.91682195e-03, -7.95889264e-03,  2.80469042e-02,  1.33854194e-02,\n        6.14995840e-02,  3.46383845e-02,  2.05829427e-02,  2.06220654e-02,\n        5.11401369e-03,  4.79662445e-02, -7.57499445e-03,  1.04910156e-01,\n        8.32712544e-02, -2.18876363e-03,  7.32758902e-02,  2.72621203e-02,\n        1.72845678e-02,  4.23401190e-03,  7.02140798e-02,  1.86757152e-02,\n        5.40210503e-02,  5.18712587e-05, -1.38367538e-02,  1.25165679e-03,\n       -2.19413144e-02,  3.22651035e-02,  5.24351772e-02,  4.92314817e-02,\n        1.28704212e-02,  3.47716229e-02,  3.35886253e-02, -2.33760541e-03,\n        1.19783591e-02,  1.40183944e-02,  3.17656989e-02,  7.26899221e-03,\n       -3.95585682e-02,  1.81788416e-02,  1.32172825e-02,  5.92747636e-02,\n        1.98388423e-02,  5.56185993e-02, -1.76845974e-02, -2.73047644e-02,\n        4.01994040e-02,  2.30229946e-02,  2.42787100e-02, -9.65020842e-04,\n        3.72611749e-02,  3.07666564e-03,  1.98207917e-02,  4.88153792e-02,\n        5.11955383e-02, -5.12470137e-03,  2.35958790e-02,  4.11363274e-02,\n        2.47606324e-02, -1.70287265e-02,  2.73018549e-02,  4.82098224e-02,\n        7.84272125e-02,  1.43029787e-01,  8.03403587e-02, -3.43208563e-03,\n        6.64560722e-02,  3.47456629e-02,  6.19882232e-02,  6.85475823e-02,\n        2.50605394e-02,  6.34714972e-02,  4.55820302e-03,  4.01116755e-02,\n        1.47973905e-02,  1.82596088e-02,  1.45227905e-02,  4.71367760e-02,\n        1.46878745e-03,  5.80275694e-02,  6.91790541e-02,  1.07361518e-01,\n        5.97631104e-02,  7.42908285e-03,  4.84835158e-02, -2.94352389e-02,\n       -2.12195905e-02, -5.28803407e-03,  6.04320202e-02,  5.60215867e-02,\n       -6.79315213e-03,  1.06898389e-01, -2.17254713e-02,  7.14938436e-02,\n        5.47590583e-02,  5.82046768e-02,  1.15556148e-01,  5.89106881e-02,\n        7.44163687e-02,  1.19066243e-02, -1.65306131e-02,  3.48945909e-02,\n        1.10937276e-02,  7.49822711e-02,  4.18462161e-02,  2.96817461e-02,\n        3.47929481e-02,  4.64085415e-02,  4.33761931e-02,  4.88128656e-02,\n        3.93225039e-02, -2.99425407e-02,  9.01092653e-02,  1.00605493e-02,\n        2.17927690e-02,  4.70848890e-02,  5.99258726e-02,  1.26442336e-02,\n       -9.61609286e-03,  7.28965344e-02,  5.12197955e-02,  2.66751125e-02,\n        5.97877752e-03,  3.39714899e-02,  2.65469701e-02,  6.81366347e-02,\n        1.71529076e-02,  4.07582792e-02,  1.30640424e-02,  9.62413789e-02,\n       -6.23837075e-02,  9.04438976e-02,  5.16914563e-02, -3.35688009e-02,\n        2.54730360e-02,  3.57910640e-02,  6.80725855e-02, -7.09197406e-03,\n        3.07445928e-02,  1.92954392e-02,  1.35611765e-02,  7.52090062e-04,\n        6.29388780e-02,  3.91688415e-02,  2.64445821e-02,  3.48188664e-02,\n        4.93446778e-02, -2.30189828e-02,  6.89629682e-02,  2.66918853e-02,\n        5.59758086e-02,  2.91983063e-02,  2.21763968e-02,  6.01183081e-02,\n        2.70707255e-02,  4.15713685e-03, -6.07892884e-03,  2.27394415e-02,\n        2.18782650e-02, -1.41779500e-02, -7.11412844e-03, -2.42742274e-02,\n       -2.94641028e-03,  2.16764862e-03,  6.33122863e-02,  1.35372238e-02,\n        8.46119475e-03,  2.53583322e-02, -2.28038383e-02,  3.94940608e-02,\n       -6.19455116e-02,  1.02221821e-02,  6.35708632e-02,  2.61519120e-03,\n        1.43494946e-02,  5.78181460e-02,  1.32833658e-03,  1.12197802e-01,\n        8.42900765e-03,  5.44046570e-02,  2.24614104e-02, -1.19142269e-02,\n       -2.20259200e-02,  2.20601244e-02,  5.69603727e-02, -4.96335641e-02,\n        1.35242394e-02,  5.68108362e-02, -2.67136788e-02,  5.42367362e-02,\n        4.17967434e-02, -5.11529687e-02,  1.97471339e-02, -1.63997431e-02,\n        6.94632881e-02,  3.14287352e-02,  4.75714294e-02,  2.22653589e-02,\n        1.31162399e-02,  3.95433549e-02,  7.40574175e-02,  8.76968340e-02,\n        2.82790465e-02, -1.69620108e-02,  2.62659394e-02,  4.59936420e-02,\n        3.22207851e-02,  6.18550946e-02,  3.54961536e-02,  3.89319655e-02,\n       -1.97101904e-02, -2.12335550e-02,  6.32411589e-04,  2.37831850e-02,\n        3.32891513e-02,  9.08648446e-02,  6.96840790e-02,  6.08925783e-02,\n       -5.06260214e-03,  5.26705384e-02,  4.41672482e-02, -5.70991582e-02,\n        5.69907373e-02,  3.48209492e-02,  1.03789447e-01,  1.06655662e-02,\n        2.96319744e-02,  1.14371612e-02, -1.33934352e-02,  9.48500745e-03,\n        5.38381751e-02, -4.64749450e-02, -1.15666691e-02, -1.51215023e-02,\n       -3.91456379e-02,  2.78329571e-02,  6.21293134e-02,  9.77257386e-03,\n        2.34369636e-02, -9.70795868e-03,  9.94980534e-02,  4.34285541e-02,\n        7.31742698e-02,  8.29549994e-02,  7.32575959e-02,  3.47723887e-02,\n        2.43061556e-02,  2.97168981e-02,  5.08636077e-02,  5.36452056e-02,\n        3.91672774e-02,  7.95755658e-02,  3.26466628e-02, -7.86346546e-03,\n        8.61681371e-02, -4.97450489e-02,  4.68297917e-02,  7.33796731e-02,\n       -5.50158559e-02,  1.89895258e-02,  8.15013524e-02,  2.66415938e-02,\n        5.99082231e-02,  2.52077582e-02, -2.43927895e-02,  3.99402810e-03,\n        5.73966259e-02,  1.12602360e-02,  6.45504775e-02,  4.58651889e-02,\n        3.80113313e-02,  9.80184385e-02,  3.14483501e-02,  7.63024561e-02,\n        3.18580272e-02, -1.89675622e-02,  3.33549355e-02,  1.17271629e-02,\n       -2.20754558e-02,  6.19294683e-02,  9.42797575e-02,  6.66399705e-03,\n       -1.24532456e-02,  6.04184517e-03,  4.04801103e-02,  8.93080907e-02,\n       -2.45177217e-02, -2.44194896e-02,  2.00063866e-02,  3.68636586e-02,\n        6.57627914e-02, -1.60793047e-02,  3.23477245e-02,  3.06037243e-02,\n        4.53503898e-02,  3.46724704e-02, -4.93101807e-03, -2.80820587e-02,\n       -2.35016020e-03, -1.37511766e-02,  1.99740853e-02,  2.70632061e-02,\n        1.60511469e-02, -5.77922066e-02, -1.25795699e-02,  3.86964906e-02,\n        2.16896344e-02, -1.51073719e-02,  3.18931048e-02,  8.50481601e-02,\n       -3.54123085e-02, -3.88951644e-02,  4.49850866e-02,  4.71863431e-02,\n        4.65651173e-02, -1.65058678e-02])"
     },
     "execution_count": 6,
     "metadata": {},
     "output_type": "execute_result"
    }
   ],
   "source": [
    "# Obtain height PRS estimates for the 1000G samples:\n",
    "v.predict()"
   ],
   "metadata": {
    "collapsed": false,
    "pycharm": {
     "name": "#%%\n"
    }
   }
  }
 ],
 "metadata": {
  "kernelspec": {
   "display_name": "Python 3",
   "language": "python",
   "name": "python3"
  },
  "language_info": {
   "codemirror_mode": {
    "name": "ipython",
    "version": 2
   },
   "file_extension": ".py",
   "mimetype": "text/x-python",
   "name": "python",
   "nbconvert_exporter": "python",
   "pygments_lexer": "ipython2",
   "version": "2.7.6"
  }
 },
 "nbformat": 4,
 "nbformat_minor": 0
}